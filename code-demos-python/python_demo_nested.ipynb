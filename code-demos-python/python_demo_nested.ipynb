{
 "cells": [
  {
   "cell_type": "markdown",
   "metadata": {},
   "source": [
    "## Code demo for Nested Resampling\n",
    "In this code demo we\n",
    "- compare resampling and nested resampling,\n",
    "- see how we can tune hyperparemeters,\n",
    "- learn how to evaluate the generalization error in this scheme.\n",
    "\n",
    "## Setup\n",
    "Firstly we generate stairs-like data:"
   ]
  },
  {
   "cell_type": "code",
   "execution_count": 1,
   "metadata": {},
   "outputs": [],
   "source": [
    "import pandas as pd\n",
    "import numpy as np\n",
    "import random"
   ]
  },
  {
   "cell_type": "code",
   "execution_count": 106,
   "metadata": {},
   "outputs": [],
   "source": [
    "def stairs(n,steps):\n",
    "    xs = pd.DataFrame(np.random.uniform(low=0,high=1/steps, size=2*n).reshape(n,2))\n",
    "    num_blocks = int(steps * (steps - 1) / 2)\n",
    "    xs.index = np.random.choice(range(num_blocks),size=n,replace=True)\n",
    "\n",
    "    block = 1\n",
    "    for i in range(steps):\n",
    "        for j in range(i):\n",
    "            xs[xs.index==block]=xs[xs.index==block].add([i/steps,j/steps])\n",
    "            block+=1\n",
    "    return xs"
   ]
  },
  {
   "cell_type": "code",
   "execution_count": 107,
   "metadata": {},
   "outputs": [],
   "source": [
    "n=100\n",
    "steps=5"
   ]
  },
  {
   "cell_type": "code",
   "execution_count": 110,
   "metadata": {},
   "outputs": [],
   "source": [
    "v1=stairs(int(n/2),steps)"
   ]
  },
  {
   "cell_type": "code",
   "execution_count": 94,
   "metadata": {},
   "outputs": [],
   "source": [
    "xs = pd.DataFrame(np.random.uniform(low=0,high=1/steps, size=2*n).reshape(n,2))\n",
    "num_blocks = int(steps * (steps - 1) / 2)\n",
    "xs.index = np.random.choice(range(num_blocks),size=n,replace=True)"
   ]
  },
  {
   "cell_type": "code",
   "execution_count": 100,
   "metadata": {},
   "outputs": [],
   "source": [
    "xs[xs.index==1]=xs[xs.index==1].add([i/steps,j/steps])"
   ]
  },
  {
   "cell_type": "code",
   "execution_count": 87,
   "metadata": {},
   "outputs": [],
   "source": [
    "xs[xs.block==1].iloc[:,:2]=(xs[xs.block==1].iloc[:,:2]+[i/steps,j/steps]).values"
   ]
  },
  {
   "cell_type": "code",
   "execution_count": 81,
   "metadata": {},
   "outputs": [],
   "source": [
    "xs[xs.block==1].loc[:,0]=xs[xs.block==1].loc[:,0].values+i/steps"
   ]
  },
  {
   "cell_type": "code",
   "execution_count": 82,
   "metadata": {},
   "outputs": [
    {
     "data": {
      "text/plain": [
       "(0.8, 0.6, 4)"
      ]
     },
     "execution_count": 82,
     "metadata": {},
     "output_type": "execute_result"
    }
   ],
   "source": [
    "i/steps,j/steps,i"
   ]
  },
  {
   "cell_type": "code",
   "execution_count": 101,
   "metadata": {},
   "outputs": [
    {
     "data": {
      "text/html": [
       "<div>\n",
       "<style scoped>\n",
       "    .dataframe tbody tr th:only-of-type {\n",
       "        vertical-align: middle;\n",
       "    }\n",
       "\n",
       "    .dataframe tbody tr th {\n",
       "        vertical-align: top;\n",
       "    }\n",
       "\n",
       "    .dataframe thead th {\n",
       "        text-align: right;\n",
       "    }\n",
       "</style>\n",
       "<table border=\"1\" class=\"dataframe\">\n",
       "  <thead>\n",
       "    <tr style=\"text-align: right;\">\n",
       "      <th></th>\n",
       "      <th>0</th>\n",
       "      <th>1</th>\n",
       "    </tr>\n",
       "  </thead>\n",
       "  <tbody>\n",
       "    <tr>\n",
       "      <th>1</th>\n",
       "      <td>0.972461</td>\n",
       "      <td>0.727489</td>\n",
       "    </tr>\n",
       "    <tr>\n",
       "      <th>1</th>\n",
       "      <td>0.841165</td>\n",
       "      <td>0.652659</td>\n",
       "    </tr>\n",
       "    <tr>\n",
       "      <th>1</th>\n",
       "      <td>0.865438</td>\n",
       "      <td>0.654753</td>\n",
       "    </tr>\n",
       "    <tr>\n",
       "      <th>1</th>\n",
       "      <td>0.919447</td>\n",
       "      <td>0.768073</td>\n",
       "    </tr>\n",
       "    <tr>\n",
       "      <th>1</th>\n",
       "      <td>0.881378</td>\n",
       "      <td>0.627882</td>\n",
       "    </tr>\n",
       "    <tr>\n",
       "      <th>1</th>\n",
       "      <td>0.845881</td>\n",
       "      <td>0.686129</td>\n",
       "    </tr>\n",
       "    <tr>\n",
       "      <th>1</th>\n",
       "      <td>0.931237</td>\n",
       "      <td>0.644269</td>\n",
       "    </tr>\n",
       "    <tr>\n",
       "      <th>1</th>\n",
       "      <td>0.965039</td>\n",
       "      <td>0.770183</td>\n",
       "    </tr>\n",
       "  </tbody>\n",
       "</table>\n",
       "</div>"
      ],
      "text/plain": [
       "          0         1\n",
       "1  0.972461  0.727489\n",
       "1  0.841165  0.652659\n",
       "1  0.865438  0.654753\n",
       "1  0.919447  0.768073\n",
       "1  0.881378  0.627882\n",
       "1  0.845881  0.686129\n",
       "1  0.931237  0.644269\n",
       "1  0.965039  0.770183"
      ]
     },
     "execution_count": 101,
     "metadata": {},
     "output_type": "execute_result"
    }
   ],
   "source": [
    "xs[xs.index==1]"
   ]
  },
  {
   "cell_type": "code",
   "execution_count": 61,
   "metadata": {},
   "outputs": [
    {
     "data": {
      "text/plain": [
       "array([0.93887059, 0.96473802, 0.86575852, 0.84192864, 0.80374072,\n",
       "       0.97666714, 0.9181295 , 0.97702997, 0.96841976, 0.87006285,\n",
       "       0.89423879, 0.90884447])"
      ]
     },
     "execution_count": 61,
     "metadata": {},
     "output_type": "execute_result"
    }
   ],
   "source": [
    "xs[xs.block==1].loc[:,0].values+i/steps"
   ]
  },
  {
   "cell_type": "code",
   "execution_count": 68,
   "metadata": {},
   "outputs": [
    {
     "data": {
      "text/plain": [
       "array([[0.93887059, 0.75259612],\n",
       "       [0.96473802, 0.78245243],\n",
       "       [0.86575852, 0.60810251],\n",
       "       [0.84192864, 0.61607712],\n",
       "       [0.80374072, 0.69629065],\n",
       "       [0.97666714, 0.69019094],\n",
       "       [0.9181295 , 0.78683092],\n",
       "       [0.97702997, 0.6817057 ],\n",
       "       [0.96841976, 0.70740709],\n",
       "       [0.87006285, 0.67416877],\n",
       "       [0.89423879, 0.78827474],\n",
       "       [0.90884447, 0.77199037]])"
      ]
     },
     "execution_count": 68,
     "metadata": {},
     "output_type": "execute_result"
    }
   ],
   "source": [
    "(xs[xs.block==1].iloc[:,:2]+[i/steps,j/steps]).values"
   ]
  },
  {
   "cell_type": "code",
   "execution_count": 90,
   "metadata": {},
   "outputs": [],
   "source": [
    "xs.index=np.random.choice(range(num_blocks),size=n,replace=True)"
   ]
  },
  {
   "cell_type": "code",
   "execution_count": 93,
   "metadata": {},
   "outputs": [
    {
     "data": {
      "text/html": [
       "<div>\n",
       "<style scoped>\n",
       "    .dataframe tbody tr th:only-of-type {\n",
       "        vertical-align: middle;\n",
       "    }\n",
       "\n",
       "    .dataframe tbody tr th {\n",
       "        vertical-align: top;\n",
       "    }\n",
       "\n",
       "    .dataframe thead th {\n",
       "        text-align: right;\n",
       "    }\n",
       "</style>\n",
       "<table border=\"1\" class=\"dataframe\">\n",
       "  <thead>\n",
       "    <tr style=\"text-align: right;\">\n",
       "      <th></th>\n",
       "      <th>0</th>\n",
       "      <th>1</th>\n",
       "      <th>block</th>\n",
       "    </tr>\n",
       "  </thead>\n",
       "  <tbody>\n",
       "    <tr>\n",
       "      <th>1</th>\n",
       "      <td>0.038387</td>\n",
       "      <td>0.068272</td>\n",
       "      <td>3</td>\n",
       "    </tr>\n",
       "    <tr>\n",
       "      <th>1</th>\n",
       "      <td>0.164738</td>\n",
       "      <td>0.182452</td>\n",
       "      <td>1</td>\n",
       "    </tr>\n",
       "    <tr>\n",
       "      <th>1</th>\n",
       "      <td>0.065759</td>\n",
       "      <td>0.008103</td>\n",
       "      <td>1</td>\n",
       "    </tr>\n",
       "    <tr>\n",
       "      <th>1</th>\n",
       "      <td>0.184801</td>\n",
       "      <td>0.097155</td>\n",
       "      <td>0</td>\n",
       "    </tr>\n",
       "    <tr>\n",
       "      <th>1</th>\n",
       "      <td>0.176667</td>\n",
       "      <td>0.090191</td>\n",
       "      <td>1</td>\n",
       "    </tr>\n",
       "    <tr>\n",
       "      <th>1</th>\n",
       "      <td>0.177030</td>\n",
       "      <td>0.081706</td>\n",
       "      <td>1</td>\n",
       "    </tr>\n",
       "    <tr>\n",
       "      <th>1</th>\n",
       "      <td>0.116438</td>\n",
       "      <td>0.169185</td>\n",
       "      <td>5</td>\n",
       "    </tr>\n",
       "    <tr>\n",
       "      <th>1</th>\n",
       "      <td>0.126957</td>\n",
       "      <td>0.081352</td>\n",
       "      <td>3</td>\n",
       "    </tr>\n",
       "    <tr>\n",
       "      <th>1</th>\n",
       "      <td>0.059878</td>\n",
       "      <td>0.027147</td>\n",
       "      <td>0</td>\n",
       "    </tr>\n",
       "    <tr>\n",
       "      <th>1</th>\n",
       "      <td>0.181063</td>\n",
       "      <td>0.042559</td>\n",
       "      <td>9</td>\n",
       "    </tr>\n",
       "    <tr>\n",
       "      <th>1</th>\n",
       "      <td>0.193908</td>\n",
       "      <td>0.054693</td>\n",
       "      <td>0</td>\n",
       "    </tr>\n",
       "    <tr>\n",
       "      <th>1</th>\n",
       "      <td>0.162632</td>\n",
       "      <td>0.143799</td>\n",
       "      <td>9</td>\n",
       "    </tr>\n",
       "    <tr>\n",
       "      <th>1</th>\n",
       "      <td>0.120174</td>\n",
       "      <td>0.123599</td>\n",
       "      <td>6</td>\n",
       "    </tr>\n",
       "  </tbody>\n",
       "</table>\n",
       "</div>"
      ],
      "text/plain": [
       "          0         1  block\n",
       "1  0.038387  0.068272      3\n",
       "1  0.164738  0.182452      1\n",
       "1  0.065759  0.008103      1\n",
       "1  0.184801  0.097155      0\n",
       "1  0.176667  0.090191      1\n",
       "1  0.177030  0.081706      1\n",
       "1  0.116438  0.169185      5\n",
       "1  0.126957  0.081352      3\n",
       "1  0.059878  0.027147      0\n",
       "1  0.181063  0.042559      9\n",
       "1  0.193908  0.054693      0\n",
       "1  0.162632  0.143799      9\n",
       "1  0.120174  0.123599      6"
      ]
     },
     "execution_count": 93,
     "metadata": {},
     "output_type": "execute_result"
    }
   ],
   "source": [
    "xs[xs.index==1]"
   ]
  },
  {
   "cell_type": "code",
   "execution_count": null,
   "metadata": {},
   "outputs": [],
   "source": []
  }
 ],
 "metadata": {
  "kernelspec": {
   "display_name": "Python 3",
   "language": "python",
   "name": "python3"
  },
  "language_info": {
   "codemirror_mode": {
    "name": "ipython",
    "version": 3
   },
   "file_extension": ".py",
   "mimetype": "text/x-python",
   "name": "python",
   "nbconvert_exporter": "python",
   "pygments_lexer": "ipython3",
   "version": "3.7.9"
  }
 },
 "nbformat": 4,
 "nbformat_minor": 4
}
