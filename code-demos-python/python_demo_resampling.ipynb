{
 "cells": [
  {
   "cell_type": "markdown",
   "metadata": {},
   "source": [
    "# Code demo for resampling\n",
    "## Self made Cross Validation\n",
    "We want to assess the performance of our model, i.e., try to estimate its generalization error. Why is it a good idea to use cross-validation (CV)?\n",
    "Let’s write our very own CV function for a k-NN learner to experiment with."
   ]
  },
  {
   "cell_type": "code",
   "execution_count": 1,
   "metadata": {},
   "outputs": [],
   "source": [
    "import pandas as pd\n",
    "import numpy as np\n",
    "import matplotlib.pyplot as plt\n",
    "\n",
    "from sklearn.neighbors import KNeighborsClassifier"
   ]
  },
  {
   "cell_type": "code",
   "execution_count": 2,
   "metadata": {},
   "outputs": [],
   "source": [
    "df = pd.read_csv('spirals.csv',usecols=['x.1','x.2','classes'])\n",
    "df.classes.replace({1:0,2:1},inplace=True)"
   ]
  },
  {
   "cell_type": "code",
   "execution_count": 3,
   "metadata": {},
   "outputs": [
    {
     "data": {
      "text/html": [
       "<div>\n",
       "<style scoped>\n",
       "    .dataframe tbody tr th:only-of-type {\n",
       "        vertical-align: middle;\n",
       "    }\n",
       "\n",
       "    .dataframe tbody tr th {\n",
       "        vertical-align: top;\n",
       "    }\n",
       "\n",
       "    .dataframe thead th {\n",
       "        text-align: right;\n",
       "    }\n",
       "</style>\n",
       "<table border=\"1\" class=\"dataframe\">\n",
       "  <thead>\n",
       "    <tr style=\"text-align: right;\">\n",
       "      <th></th>\n",
       "      <th>x.1</th>\n",
       "      <th>x.2</th>\n",
       "      <th>classes</th>\n",
       "    </tr>\n",
       "  </thead>\n",
       "  <tbody>\n",
       "    <tr>\n",
       "      <th>0</th>\n",
       "      <td>-0.096836</td>\n",
       "      <td>-0.429970</td>\n",
       "      <td>1</td>\n",
       "    </tr>\n",
       "    <tr>\n",
       "      <th>1</th>\n",
       "      <td>0.689233</td>\n",
       "      <td>-0.003592</td>\n",
       "      <td>1</td>\n",
       "    </tr>\n",
       "    <tr>\n",
       "      <th>2</th>\n",
       "      <td>0.214289</td>\n",
       "      <td>0.037893</td>\n",
       "      <td>0</td>\n",
       "    </tr>\n",
       "    <tr>\n",
       "      <th>3</th>\n",
       "      <td>0.243255</td>\n",
       "      <td>0.801758</td>\n",
       "      <td>1</td>\n",
       "    </tr>\n",
       "    <tr>\n",
       "      <th>4</th>\n",
       "      <td>-0.046206</td>\n",
       "      <td>-0.604098</td>\n",
       "      <td>1</td>\n",
       "    </tr>\n",
       "  </tbody>\n",
       "</table>\n",
       "</div>"
      ],
      "text/plain": [
       "        x.1       x.2  classes\n",
       "0 -0.096836 -0.429970        1\n",
       "1  0.689233 -0.003592        1\n",
       "2  0.214289  0.037893        0\n",
       "3  0.243255  0.801758        1\n",
       "4 -0.046206 -0.604098        1"
      ]
     },
     "execution_count": 3,
     "metadata": {},
     "output_type": "execute_result"
    }
   ],
   "source": [
    "df.head()"
   ]
  },
  {
   "cell_type": "code",
   "execution_count": 4,
   "metadata": {},
   "outputs": [],
   "source": [
    "def knn_cv(df,target,folds,k):\n",
    "    \n",
    "    all_indices = np.arange(len(df))\n",
    "    np.random.shuffle(all_indices)\n",
    "    data_len = len(df)//folds\n",
    "    index_matrix = all_indices[:data_len*folds].reshape(folds,data_len)\n",
    "    cv_results=[]\n",
    "\n",
    "    for i in range(folds):\n",
    "        test_data = df.iloc[index_matrix[i]]\n",
    "        train_data = df.drop(index_matrix[i])\n",
    "\n",
    "        clf = KNeighborsClassifier(n_neighbors=k)\n",
    "        clf.fit(X=train_data.drop(target,axis=1).values,y=train_data[target])\n",
    "        pred = clf.predict(test_data.drop(target,axis=1).values)\n",
    "        cv_results.append(np.mean(pred!=test_data[target]))\n",
    "        \n",
    "    return cv_results"
   ]
  },
  {
   "cell_type": "code",
   "execution_count": 5,
   "metadata": {},
   "outputs": [],
   "source": [
    "cv_results = knn_cv(df = df, target = \"classes\", folds = 11, k = 4)"
   ]
  },
  {
   "cell_type": "code",
   "execution_count": 6,
   "metadata": {},
   "outputs": [
    {
     "data": {
      "text/plain": [
       "[0.06666666666666667,\n",
       " 0.044444444444444446,\n",
       " 0.06666666666666667,\n",
       " 0.08888888888888889,\n",
       " 0.044444444444444446,\n",
       " 0.08888888888888889,\n",
       " 0.022222222222222223,\n",
       " 0.044444444444444446,\n",
       " 0.044444444444444446,\n",
       " 0.1111111111111111,\n",
       " 0.1111111111111111]"
      ]
     },
     "execution_count": 6,
     "metadata": {},
     "output_type": "execute_result"
    }
   ],
   "source": [
    "cv_results"
   ]
  },
  {
   "cell_type": "code",
   "execution_count": 7,
   "metadata": {},
   "outputs": [
    {
     "data": {
      "text/plain": [
       "(0.06666666666666667, 0.028426762180748057)"
      ]
     },
     "execution_count": 7,
     "metadata": {},
     "output_type": "execute_result"
    }
   ],
   "source": [
    "avg = np.mean(cv_results)\n",
    "std = np.std(cv_results)\n",
    "avg,std"
   ]
  },
  {
   "cell_type": "code",
   "execution_count": 8,
   "metadata": {},
   "outputs": [
    {
     "data": {
      "image/png": "[encoded data removed]",
      "text/plain": [
       "<Figure size 432x288 with 1 Axes>"
      ]
     },
     "metadata": {
      "needs_background": "light"
     },
     "output_type": "display_data"
    }
   ],
   "source": [
    "plt.plot(cv_results);\n",
    "plt.hlines(avg,0,11,colors='r');\n",
    "plt.hlines(avg+std,0,11,colors='r',linestyles='dashed');\n",
    "plt.hlines(avg-std,0,11,colors='r',linestyles='dashed');"
   ]
  },
  {
   "cell_type": "code",
   "execution_count": 9,
   "metadata": {},
   "outputs": [
    {
     "data": {
      "text/plain": [
       "[2, 3, 4, 5, 10, 15, 20, 25, 30, 35, 40, 45, 50, 55, 60]"
      ]
     },
     "execution_count": 9,
     "metadata": {},
     "output_type": "execute_result"
    }
   ],
   "source": [
    "cv_folds = [2,3,4]+np.arange(5,65,5).tolist()\n",
    "cv_folds"
   ]
  },
  {
   "cell_type": "code",
   "execution_count": 10,
   "metadata": {},
   "outputs": [],
   "source": [
    "cv_results = [knn_cv(df = df, target = \"classes\", folds = num_fold, k = 4) for num_fold in cv_folds]"
   ]
  },
  {
   "cell_type": "code",
   "execution_count": 11,
   "metadata": {},
   "outputs": [
    {
     "name": "stderr",
     "output_type": "stream",
     "text": [
      "/raid/anaconda3/envs/datascience/lib/python3.7/site-packages/numpy/core/_asarray.py:83: VisibleDeprecationWarning: Creating an ndarray from ragged nested sequences (which is a list-or-tuple of lists-or-tuples-or ndarrays with different lengths or shapes) is deprecated. If you meant to do this, you must specify 'dtype=object' when creating the ndarray\n",
      "  return array(a, dtype, copy=False, order=order)\n"
     ]
    },
    {
     "data": {
      "image/png": "[encoded data removed]",
      "text/plain": [
       "<Figure size 432x288 with 1 Axes>"
      ]
     },
     "metadata": {
      "needs_background": "light"
     },
     "output_type": "display_data"
    }
   ],
   "source": [
    "plt.boxplot(cv_results);\n",
    "plt.xlabel('num_cv_folds')\n",
    "plt.ylabel('mmce');\n",
    "ymin,ymax=plt.gca().get_ylim()\n",
    "plt.xticks(np.arange(1,len(cv_folds)+1),labels=cv_folds);"
   ]
  },
  {
   "cell_type": "markdown",
   "metadata": {},
   "source": [
    "The more we increase the number of folds, the larger each training set becomes. Hence the pessimistic bias\n",
    "for the estimated model performance becomes smaller.\n",
    "But since the test sets also become smaller, the variance of the resulting performance estimate increases.\n",
    "In addition, with a higher number of folds, the computation time increases. (Think about that: by how\n",
    "much? is the increase linear in the number of folds? why or why not?)\n",
    "Can we get better results with a smaller amount of computation? Let’s see what happens if we do repeated\n",
    "CV and collect only their means:"
   ]
  },
  {
   "cell_type": "code",
   "execution_count": 12,
   "metadata": {},
   "outputs": [
    {
     "data": {
      "text/plain": [
       "[5, 10, 15, 20]"
      ]
     },
     "execution_count": 12,
     "metadata": {},
     "output_type": "execute_result"
    }
   ],
   "source": [
    "cv_folds = np.arange(5,25,5).tolist()\n",
    "cv_folds"
   ]
  },
  {
   "cell_type": "code",
   "execution_count": 13,
   "metadata": {},
   "outputs": [],
   "source": [
    "cv_results = [knn_cv(df = df, target = \"classes\", folds = num_fold, k = 4) for num_fold in cv_folds]"
   ]
  },
  {
   "cell_type": "code",
   "execution_count": 14,
   "metadata": {},
   "outputs": [
    {
     "name": "stderr",
     "output_type": "stream",
     "text": [
      "/raid/anaconda3/envs/datascience/lib/python3.7/site-packages/numpy/core/_asarray.py:83: VisibleDeprecationWarning: Creating an ndarray from ragged nested sequences (which is a list-or-tuple of lists-or-tuples-or ndarrays with different lengths or shapes) is deprecated. If you meant to do this, you must specify 'dtype=object' when creating the ndarray\n",
      "  return array(a, dtype, copy=False, order=order)\n"
     ]
    },
    {
     "data": {
      "image/png": "[encoded data removed]",
      "text/plain": [
       "<Figure size 432x288 with 1 Axes>"
      ]
     },
     "metadata": {
      "needs_background": "light"
     },
     "output_type": "display_data"
    }
   ],
   "source": [
    "plt.boxplot(cv_results);\n",
    "plt.xlabel('num_cv_folds')\n",
    "plt.ylabel('mmce');\n",
    "plt.gca().set_ylim(ymin,ymax);\n",
    "plt.xticks(np.arange(1,5),labels=cv_folds);"
   ]
  },
  {
   "cell_type": "markdown",
   "metadata": {},
   "source": [
    "# Scikit-Learn's CV Implementation"
   ]
  },
  {
   "cell_type": "code",
   "execution_count": 16,
   "metadata": {},
   "outputs": [],
   "source": [
    "from sklearn.model_selection import cross_val_score"
   ]
  },
  {
   "cell_type": "code",
   "execution_count": 17,
   "metadata": {},
   "outputs": [],
   "source": [
    "clf = KNeighborsClassifier(n_neighbors=4)"
   ]
  },
  {
   "cell_type": "code",
   "execution_count": 19,
   "metadata": {},
   "outputs": [],
   "source": [
    "target = 'classes'\n",
    "scores = cross_val_score(clf, X=df.drop(target,axis=1).values,y=df[target], cv=5)"
   ]
  },
  {
   "cell_type": "code",
   "execution_count": 20,
   "metadata": {},
   "outputs": [
    {
     "data": {
      "text/plain": [
       "array([0.64, 0.79, 0.6 , 0.64, 0.53])"
      ]
     },
     "execution_count": 20,
     "metadata": {},
     "output_type": "execute_result"
    }
   ],
   "source": [
    "scores"
   ]
  },
  {
   "cell_type": "code",
   "execution_count": null,
   "metadata": {},
   "outputs": [],
   "source": []
  }
 ],
 "metadata": {
  "kernelspec": {
   "display_name": "Python 3",
   "language": "python",
   "name": "python3"
  },
  "language_info": {
   "codemirror_mode": {
    "name": "ipython",
    "version": 3
   },
   "file_extension": ".py",
   "mimetype": "text/x-python",
   "name": "python",
   "nbconvert_exporter": "python",
   "pygments_lexer": "ipython3",
   "version": "3.7.9"
  }
 },
 "nbformat": 4,
 "nbformat_minor": 4
}
