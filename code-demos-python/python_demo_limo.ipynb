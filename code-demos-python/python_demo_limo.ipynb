{
 "cells": [
  {
   "cell_type": "code",
   "execution_count": 1,
   "metadata": {},
   "outputs": [],
   "source": [
    "import numpy as np\n",
    "import pandas as pd\n",
    "import seaborn as sns\n",
    "import matplotlib.pyplot as plt\n",
    "from sklearn.linear_model import LinearRegression"
   ]
  },
  {
   "cell_type": "markdown",
   "metadata": {},
   "source": [
    "# Linear model and loss minimization\n",
    "## Note\n",
    "This code demo covers additional material, which is intended for students interested in more in-depth knowledge.\n",
    "## Problem\n",
    "We can estimate the $\\theta$ coefficients by minimizing the empirical risk\n",
    "$$R_{emp}(f)=\\frac{1}{n}\\sum_{i=1}^n L(y^{(i)},f(x^{(i)}))$$\n",
    "of the model over $\\theta$. With quadratic loss, this yields\n",
    "$$R_{emp}(f)=\\frac{1}{n}\\sum_{i=1}^n (y^{(i)}-(x^{(i)})^T\\theta)$$\n",
    "This can be written in matrix notation as:\n",
    "$$R_{emp}(f)=\\frac{1}{n}(X\\theta-y)^T(X\\theta-y)=\\frac{1}{n}(\\theta^TX^TX\\theta-2\\theta^TX^Ty+y^Ty)$$\n",
    "The problem then becomes finding $\\hat{\\theta}$ such that\n",
    "$$\\hat{\\theta}=\\underset{\\theta}{\\operatorname{argmin}} R_{emp}(f)$$\n",
    "\n",
    "## Solution\n",
    "- we can solve this kind of minimization problem using an iterative technique termed Gradient Descent\n",
    "- this is an extremely important technique that is applied - in many variants - to solve the optimization problem when optimizing many kinds of learners.\n",
    "- Note: An analytic solution exists for the quadratic loss, s.t.\n",
    "$$\\hat{\\theta}=(X^TX)^{-1}X^Ty$$\n",
    "\n",
    "## Gradient Descent\n",
    "The Gradient Descent method follows this algorithm:\n",
    "1. Initialize $\\theta^{[0]}$ (randomly) and calculate the gradient of the empirical risk with respect to θ, for example for the squared error loss:\n",
    "$$\\frac{\\partial R_{emp}(f)}{\\partial\\theta} = \\frac{\\partial}{\\partial\\theta}\\frac{1}{n}(\\theta^TX^TX\\theta-2\\theta^TX^Ty+y^Ty)=\\frac{2}{n}X^T[X\\theta^{[t]}-y]$$\n",
    "Now iterate these two steps\n",
    "2. Evaluate the gradient at the current value of the parameter vector $\\theta^{[t]}$ :\n",
    "$$\\left.\\frac{\\partial R_{e m p}(f)}{\\partial \\theta}\\right|_{\\theta=\\theta[t]}=\\frac{2}{n} X^{T}\\left[X \\theta^{[t]}-y\\right]$$\n",
    "3. Update the estimate for $\\theta$ using :\n",
    "$$\\theta^{[t+1]}=\\theta^{[t]}-\\left.\\lambda \\frac{\\partial R_{e m p}(f)}{\\partial \\theta}\\right|_{\\theta=\\theta[t]}$$\n",
    "\n",
    "- The stepsize or learning rate parameter λ controls the size of the updates per iteration t.\n",
    "- We stop if the differences between successive updates of θ are below a certain threshold or once a maximum number of iterations is reached.\n",
    "- Many variants of gradient descent exist that either\n",
    "    - develop clever ways on how to choose good stepsizes (maybe even dependent on t),\n",
    "    - and/or how to compute (approximations to) the gradient effectively,\n",
    "    - and/or even adapt the direction of the update itself by taking into account, for example, the previously used update directions or the second derivatives of the empirical risk (i.e., the curvature of the risk surface). . . ."
   ]
  },
  {
   "cell_type": "markdown",
   "metadata": {},
   "source": [
    "## Implementation\n",
    "\n",
    "First we calculate the risk for squared loss and it's gradient as two seperate functions:"
   ]
  },
  {
   "cell_type": "code",
   "execution_count": 2,
   "metadata": {},
   "outputs": [],
   "source": [
    "def risk_quadratic(theta,y,X):\n",
    "    residual = X.dot(theta)-y\n",
    "    return residual.T.dot(residual)/len(y)"
   ]
  },
  {
   "cell_type": "code",
   "execution_count": 3,
   "metadata": {},
   "outputs": [],
   "source": [
    "def gradient_quadratic(theta,y,X):\n",
    "    residual = X.dot(theta)-y\n",
    "    return X.T.dot(residual)*2/len(y)"
   ]
  },
  {
   "cell_type": "code",
   "execution_count": 4,
   "metadata": {},
   "outputs": [],
   "source": [
    "def gradient_descent(y,X,theta,\n",
    "                    loss_fn=risk_quadratic,\n",
    "                    grad_fn=gradient_quadratic,\n",
    "                    learning_rate=0.005,\n",
    "                    max_iter=2000):\n",
    "\n",
    "    loss_storage=[]\n",
    "    theta_storage=[]\n",
    "    \n",
    "    loss_storage.append(loss_fn(theta,y,X))\n",
    "    theta_storage.append(theta)\n",
    "    \n",
    "    for i in range(max_iter):\n",
    "        theta = theta - learning_rate * grad_fn(theta,y,X)\n",
    "        loss = loss_fn(theta,y,X)\n",
    "        loss_storage.append(loss)\n",
    "        theta_storage.append(theta)\n",
    "        \n",
    "    return loss_storage,theta_storage"
   ]
  },
  {
   "cell_type": "markdown",
   "metadata": {},
   "source": [
    "Simulated Data`"
   ]
  },
  {
   "cell_type": "code",
   "execution_count": 5,
   "metadata": {},
   "outputs": [],
   "source": [
    "np.random.seed(42)\n",
    "n=100\n",
    "max_iter=2000\n",
    "\n",
    "intercept = np.ones((n,1))\n",
    "x1 = np.random.uniform(-3,5,n).reshape(n,1)\n",
    "x2 = np.random.uniform(-2,10,n).reshape(n,1)\n",
    "\n",
    "X = np.hstack([intercept,x1,x2])\n",
    "theta_true = np.array([2,0.5,0.5])\n",
    "y=X.dot(theta_true) + np.random.normal(size=n)\n",
    "\n",
    "theta_init = np.zeros_like(theta_true)"
   ]
  },
  {
   "cell_type": "code",
   "execution_count": 6,
   "metadata": {},
   "outputs": [],
   "source": [
    "out = gradient_descent(y,X,theta_init,max_iter=max_iter)"
   ]
  },
  {
   "cell_type": "code",
   "execution_count": 7,
   "metadata": {},
   "outputs": [
    {
     "data": {
      "image/png": "[encoded data removed]",
      "text/plain": [
       "<Figure size 432x288 with 1 Axes>"
      ]
     },
     "metadata": {
      "needs_background": "light"
     },
     "output_type": "display_data"
    }
   ],
   "source": [
    "plt.plot(out[1])\n",
    "plt.legend(['2','0.5','0.5']);"
   ]
  },
  {
   "cell_type": "code",
   "execution_count": 8,
   "metadata": {},
   "outputs": [
    {
     "data": {
      "image/png": "[encoded data removed]",
      "text/plain": [
       "<Figure size 432x288 with 1 Axes>"
      ]
     },
     "metadata": {
      "needs_background": "light"
     },
     "output_type": "display_data"
    }
   ],
   "source": [
    "plt.plot(out[0]);"
   ]
  },
  {
   "cell_type": "code",
   "execution_count": 9,
   "metadata": {},
   "outputs": [
    {
     "data": {
      "text/plain": [
       "array([1.90181527, 0.45731982, 0.56001574])"
      ]
     },
     "execution_count": 9,
     "metadata": {},
     "output_type": "execute_result"
    }
   ],
   "source": [
    "theta_final = out[1][-1]\n",
    "theta_final"
   ]
  },
  {
   "cell_type": "markdown",
   "metadata": {},
   "source": [
    "## Stopping criterion\n",
    "By looking at the figures we see that the empirical risk quickly starts to stagnate and is not improving much\n",
    "more, i.e., we are doing unnecessary computations. Because of this it makes sense to use a stopping criterion.\n",
    "One commonly used stopping criterion consists in checking if θ is not changing notably, e.g. that for an $\\epsilon$ > 0\n",
    "\n",
    "$$\\left\\|\\theta^{[t+1]}-\\theta^{[t]}\\right\\|_{2}<\\epsilon$$"
   ]
  },
  {
   "cell_type": "code",
   "execution_count": 10,
   "metadata": {},
   "outputs": [],
   "source": [
    "def gradient_descent_threshold(y,X,theta,\n",
    "                              loss_fn=risk_quadratic,\n",
    "                              grad_fn=gradient_quadratic,\n",
    "                              learning_rate=0.005,\n",
    "                              max_iter=2000,\n",
    "                              threshold=1e-3):\n",
    "\n",
    "    loss_storage=[]\n",
    "    theta_storage=[]\n",
    "    \n",
    "    loss_storage.append(loss_fn(theta,y,X))\n",
    "    theta_storage.append(theta)\n",
    "    \n",
    "    for i in range(max_iter):\n",
    "        theta = theta - learning_rate * grad_fn(theta,y,X)\n",
    "        loss = loss_fn(theta,y,X)\n",
    "        \n",
    "        if (i>1)&(np.sqrt(np.sum((theta_storage[-1]-theta)**2))<threshold):\n",
    "            print(f'threshold reached. Breaking at {i}-th iteration')\n",
    "            break\n",
    "        loss_storage.append(loss)\n",
    "        theta_storage.append(theta)\n",
    "        \n",
    "    return loss_storage,theta_storage"
   ]
  },
  {
   "cell_type": "code",
   "execution_count": 11,
   "metadata": {},
   "outputs": [
    {
     "name": "stdout",
     "output_type": "stream",
     "text": [
      "threshold reached. Breaking at 487-th iteration\n"
     ]
    }
   ],
   "source": [
    "out = gradient_descent_threshold(y,X,theta_init,max_iter=max_iter)"
   ]
  },
  {
   "cell_type": "code",
   "execution_count": 12,
   "metadata": {},
   "outputs": [
    {
     "data": {
      "image/png": "[encoded data removed]",
      "text/plain": [
       "<Figure size 432x288 with 1 Axes>"
      ]
     },
     "metadata": {
      "needs_background": "light"
     },
     "output_type": "display_data"
    }
   ],
   "source": [
    "plt.plot(out[1])\n",
    "plt.legend(['2','0.5','0.5']);"
   ]
  },
  {
   "cell_type": "code",
   "execution_count": 13,
   "metadata": {},
   "outputs": [
    {
     "data": {
      "image/png": "[encoded data removed]",
      "text/plain": [
       "<Figure size 432x288 with 1 Axes>"
      ]
     },
     "metadata": {
      "needs_background": "light"
     },
     "output_type": "display_data"
    }
   ],
   "source": [
    "plt.plot(out[0]);"
   ]
  },
  {
   "cell_type": "code",
   "execution_count": 14,
   "metadata": {},
   "outputs": [
    {
     "data": {
      "text/plain": [
       "array([1.65821689, 0.47353795, 0.59343386])"
      ]
     },
     "execution_count": 14,
     "metadata": {},
     "output_type": "execute_result"
    }
   ],
   "source": [
    "theta_final = out[1][-1]\n",
    "theta_final"
   ]
  },
  {
   "cell_type": "markdown",
   "metadata": {},
   "source": [
    "## Stepsize\n",
    "We notice that our implementation depends on the hyperparameter stepsize λ. Our implementation could be improved by doing an inner optimization for the stepsize λ, s.t. we follow the direction of the gradient until\n",
    "the function starts to increase again. For this task we can use the optim function. This is called a line search algorithm, because we’re looking for a (local) minimum along the line of steepest descent."
   ]
  },
  {
   "cell_type": "code",
   "execution_count": 15,
   "metadata": {},
   "outputs": [],
   "source": [
    "def BacktrackingLineSearch(f, df, x, p, df_x = None, f_x = None, args = (),\n",
    "        alpha = 0.0001, beta = 0.9, eps = 1e-15, Verbose = False):\n",
    "    \"\"\"\n",
    "    source : https://gist.github.com/jiahao/1561144\n",
    "    \n",
    "    Backtracking linesearch\n",
    "    f: function\n",
    "    df: gradient function\n",
    "    x: current point\n",
    "    p: direction of search\n",
    "    df_x: gradient at x\n",
    "    f_x = f(x) (Optional)\n",
    "    args: optional arguments to f (optional)\n",
    "    alpha, beta: backtracking parameters\n",
    "    eps: (Optional) quit if norm of step produced is less than this\n",
    "    Verbose: (Optional) Print lots of info about progress\n",
    "    \n",
    "    Reference: Nocedal and Wright 2/e (2006), p. 37\n",
    "    \n",
    "    Usage notes:\n",
    "    -----------\n",
    "    Recommended for Newton methods; less appropriate for quasi-Newton or conjugate gradients\n",
    "    \"\"\"\n",
    "\n",
    "    if f_x is None:\n",
    "        f_x = f(x, *args)\n",
    "    if df_x is None:\n",
    "        df_x = df(x, *args)\n",
    "\n",
    "    assert df_x.T.shape == p.shape\n",
    "    assert 0 < alpha < 1, 'Invalid value of alpha in backtracking linesearch'\n",
    "    assert 0 < beta < 1, 'Invalid value of beta in backtracking linesearch'\n",
    "\n",
    "    derphi = np.dot(df_x, p)\n",
    "\n",
    "    assert derphi.shape == (1, 1) or derphi.shape == ()\n",
    "    assert derphi < 0, 'Attempted to linesearch uphill'\n",
    "\n",
    "    stp = 1.0\n",
    "    fc = 0\n",
    "    len_p = np.linalg.norm(p)\n",
    "\n",
    "\n",
    "    #Loop until Armijo condition is satisfied\n",
    "    while f(x + stp * p, *args) > f_x + alpha * stp * derphi:\n",
    "        stp *= beta\n",
    "        fc += 1\n",
    "        if Verbose: print('linesearch iteration', fc, ':', stp, f(x + stp * p, *args), f_x + alpha * stp * derphi)\n",
    "        if stp * len_p < eps:\n",
    "            print('Step is  too small, stop')\n",
    "            break\n",
    "    #if Verbose: print 'linesearch iteration 0 :', stp, f_x, f_x\n",
    "\n",
    "    if Verbose: print('linesearch done')\n",
    "    #print fc, 'iterations in linesearch'\n",
    "    return stp"
   ]
  },
  {
   "cell_type": "code",
   "execution_count": 16,
   "metadata": {},
   "outputs": [],
   "source": [
    "def gradient_descent_opt_stepsize(y,X,theta,\n",
    "                                  loss_fn=risk_quadratic,\n",
    "                                  grad_fn=gradient_quadratic,\n",
    "                                  max_iter=2000,\n",
    "                                  threshold=1e-3):\n",
    "\n",
    "    loss_storage=[]\n",
    "    theta_storage=[]\n",
    "    lr_storage=[]\n",
    "    \n",
    "    loss_storage.append(loss_fn(theta,y,X))\n",
    "    theta_storage.append(theta)\n",
    "    \n",
    "    for i in range(max_iter):\n",
    "        lr_opt = BacktrackingLineSearch(loss_fn,grad_fn,theta,-grad_fn(theta,y,X),args=(y,X))\n",
    "        theta = theta - lr_opt * grad_fn(theta,y,X)\n",
    "        loss = loss_fn(theta,y,X)\n",
    "        \n",
    "        if (i>1)&(np.sqrt(np.sum((theta_storage[-1]-theta)**2))<threshold):\n",
    "            print(f'threshold reached. Breaking at {i}-th iteration')\n",
    "            break\n",
    "        loss_storage.append(loss)\n",
    "        theta_storage.append(theta)\n",
    "        lr_storage.append(lr_opt)\n",
    "        \n",
    "    return loss_storage,theta_storage,lr_storage"
   ]
  },
  {
   "cell_type": "code",
   "execution_count": 17,
   "metadata": {},
   "outputs": [
    {
     "name": "stdout",
     "output_type": "stream",
     "text": [
      "threshold reached. Breaking at 674-th iteration\n"
     ]
    }
   ],
   "source": [
    "out = gradient_descent_opt_stepsize(y,X,theta_init,max_iter=max_iter)"
   ]
  },
  {
   "cell_type": "code",
   "execution_count": 18,
   "metadata": {},
   "outputs": [
    {
     "data": {
      "image/png": "[encoded data removed]",
      "text/plain": [
       "<Figure size 432x288 with 1 Axes>"
      ]
     },
     "metadata": {
      "needs_background": "light"
     },
     "output_type": "display_data"
    }
   ],
   "source": [
    "plt.plot(out[0]);"
   ]
  },
  {
   "cell_type": "markdown",
   "metadata": {},
   "source": [
    "## Comparison with scikit-learn "
   ]
  },
  {
   "cell_type": "code",
   "execution_count": 19,
   "metadata": {},
   "outputs": [],
   "source": [
    "clf = LinearRegression().fit(X, y)"
   ]
  },
  {
   "cell_type": "code",
   "execution_count": 20,
   "metadata": {},
   "outputs": [
    {
     "data": {
      "text/plain": [
       "1.9023482760815824"
      ]
     },
     "execution_count": 20,
     "metadata": {},
     "output_type": "execute_result"
    }
   ],
   "source": [
    "clf.intercept_"
   ]
  },
  {
   "cell_type": "code",
   "execution_count": 21,
   "metadata": {},
   "outputs": [
    {
     "data": {
      "text/plain": [
       "array([0.        , 0.45728433, 0.55994262])"
      ]
     },
     "execution_count": 21,
     "metadata": {},
     "output_type": "execute_result"
    }
   ],
   "source": [
    "clf.coef_"
   ]
  },
  {
   "cell_type": "markdown",
   "metadata": {},
   "source": [
    "## Comparison with exact solution"
   ]
  },
  {
   "cell_type": "code",
   "execution_count": 22,
   "metadata": {},
   "outputs": [
    {
     "data": {
      "text/plain": [
       "array([1.90234828, 0.45728433, 0.55994262])"
      ]
     },
     "execution_count": 22,
     "metadata": {},
     "output_type": "execute_result"
    }
   ],
   "source": [
    "np.linalg.inv(X.T.dot(X)).dot(X.T).dot(y)"
   ]
  },
  {
   "cell_type": "code",
   "execution_count": null,
   "metadata": {},
   "outputs": [],
   "source": []
  }
 ],
 "metadata": {
  "kernelspec": {
   "display_name": "Python 3",
   "language": "python",
   "name": "python3"
  },
  "language_info": {
   "codemirror_mode": {
    "name": "ipython",
    "version": 3
   },
   "file_extension": ".py",
   "mimetype": "text/x-python",
   "name": "python",
   "nbconvert_exporter": "python",
   "pygments_lexer": "ipython3",
   "version": "3.7.7"
  }
 },
 "nbformat": 4,
 "nbformat_minor": 4
}
